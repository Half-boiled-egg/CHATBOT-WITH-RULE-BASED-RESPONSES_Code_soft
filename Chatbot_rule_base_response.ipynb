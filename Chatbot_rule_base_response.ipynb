{
  "nbformat": 4,
  "nbformat_minor": 0,
  "metadata": {
    "colab": {
      "provenance": []
    },
    "kernelspec": {
      "name": "python3",
      "display_name": "Python 3"
    },
    "language_info": {
      "name": "python"
    }
  },
  "cells": [
    {
      "cell_type": "code",
      "execution_count": 1,
      "metadata": {
        "id": "3a566aAyc-sL",
        "colab": {
          "base_uri": "https://localhost:8080/"
        },
        "outputId": "8d9746de-5202-48c4-8db0-d3a9c44e2037"
      },
      "outputs": [
        {
          "output_type": "stream",
          "name": "stdout",
          "text": [
            "Chatbot: Hi! Type 'bye' to exit.\n",
            "You: HI\n",
            "Chatbot: Hello! How can I help you today?\n",
            "You: bye\n",
            "Chatbot: Goodbye!\n"
          ]
        }
      ],
      "source": [
        "# If you dont have Spacy module installed on your used environment then please install it first.\n",
        "# !pip install -U spacy\n",
        "\n",
        "\n",
        "import spacy\n",
        "from spacy.cli.download import download as spacy_download\n",
        "\n",
        "if not spacy.util.is_package(\"en_core_web_sm\"):\n",
        "    spacy_download(\"en_core_web_sm\")\n",
        "\n",
        "\n",
        "nlp = spacy.load(\"en_core_web_sm\")\n",
        "\n",
        "def rule_based_chatbot(user_input):\n",
        "\n",
        "    doc = nlp(user_input)\n",
        "\n",
        "\n",
        "    if any(token.text.lower() in ['hi', 'hello', 'hey'] for token in doc):\n",
        "        return \"Hello! How can I help you today?\"\n",
        "\n",
        "    elif any(token.text.lower() in ['bye', 'goodbye'] for token in doc):\n",
        "        return \"Goodbye! Have a great day.\"\n",
        "\n",
        "    elif any(token.text.lower() in ['age', 'old'] for token in doc):\n",
        "        return \"I am just a computer program, so I don't have an age.\"\n",
        "\n",
        "    else:\n",
        "        return \"I do not understand. Please ask something else.\"\n",
        "\n",
        "\n",
        "print(\"Chatbot: Hi! Type 'bye' to exit.\")\n",
        "while True:\n",
        "    user_input = input(\"You: \")\n",
        "\n",
        "    if user_input.lower() == 'bye':\n",
        "        print(\"Chatbot: Goodbye!\")\n",
        "        break\n",
        "\n",
        "    response = rule_based_chatbot(user_input)\n",
        "    print(\"Chatbot:\", response)\n"
      ]
    },
    {
      "cell_type": "code",
      "source": [],
      "metadata": {
        "id": "5av5yCG5eeSZ"
      },
      "execution_count": null,
      "outputs": []
    }
  ]
}